{
  "nbformat": 4,
  "nbformat_minor": 0,
  "metadata": {
    "colab": {
      "provenance": []
    },
    "kernelspec": {
      "name": "python3",
      "display_name": "Python 3"
    },
    "language_info": {
      "name": "python"
    }
  },
  "cells": [
    {
      "cell_type": "markdown",
      "source": [
        "#Clasificacion de imagenes del set cifar-10 con CNN"
      ],
      "metadata": {
        "id": "5ppF3EZSxjqw"
      }
    },
    {
      "cell_type": "code",
      "execution_count": 2,
      "metadata": {
        "id": "RPgryfDLPZhl"
      },
      "outputs": [],
      "source": [
        "import torch\n",
        "import torch.nn as nn\n",
        "import torch.optim as optim\n",
        "import torchvision\n",
        "import torchvision.transforms as transforms"
      ]
    },
    {
      "cell_type": "markdown",
      "source": [
        "##Carga de datos"
      ],
      "metadata": {
        "id": "A11RfrR2wGvh"
      }
    },
    {
      "cell_type": "code",
      "source": [
        "#creamos un estandar de preprocesaimento que normaliza y ajusta los valores.\n",
        "transform = transforms.Compose(\n",
        "    [transforms.ToTensor(),\n",
        "     transforms.Normalize((0.4914, 0.4822, 0.4465), (0.2023, 0.1994, 0.2010))])\n",
        "\n",
        "#set de entrenamiento (descargamos directamente para mayor simplicidad)\n",
        "trainset = torchvision.datasets.CIFAR10(root='./data', train=True,\n",
        "                                        download=True, transform=transform)\n",
        "#loader con batchs de 100\n",
        "trainloader = torch.utils.data.DataLoader(trainset, batch_size=100,\n",
        "                                          shuffle=True, num_workers=2)\n",
        "#set de test\n",
        "testset = torchvision.datasets.CIFAR10(root='./data', train=False,\n",
        "                                       download=True, transform=transform)\n",
        "#loader del test\n",
        "testloader = torch.utils.data.DataLoader(testset, batch_size=100,\n",
        "                                         shuffle=False, num_workers=2)\n",
        "#clases (sacados del dataset)\n",
        "classes = ('plane', 'car', 'bird', 'cat', 'deer', 'dog',\n",
        "           'frog', 'horse', 'ship', 'truck')"
      ],
      "metadata": {
        "colab": {
          "base_uri": "https://localhost:8080/"
        },
        "id": "PcEOAlXdP54z",
        "outputId": "f7d22765-3674-4b86-8be4-3ff2fcec6550"
      },
      "execution_count": 3,
      "outputs": [
        {
          "output_type": "stream",
          "name": "stdout",
          "text": [
            "Downloading https://www.cs.toronto.edu/~kriz/cifar-10-python.tar.gz to ./data/cifar-10-python.tar.gz\n"
          ]
        },
        {
          "output_type": "stream",
          "name": "stderr",
          "text": [
            "100%|██████████| 170498071/170498071 [00:03<00:00, 52645229.46it/s]\n"
          ]
        },
        {
          "output_type": "stream",
          "name": "stdout",
          "text": [
            "Extracting ./data/cifar-10-python.tar.gz to ./data\n",
            "Files already downloaded and verified\n"
          ]
        }
      ]
    },
    {
      "cell_type": "markdown",
      "source": [
        "##Arquitectura"
      ],
      "metadata": {
        "id": "SfCcJntKxgqR"
      }
    },
    {
      "cell_type": "code",
      "source": [
        "import torch.nn.functional as F\n",
        "#arquitectura CNN\n",
        "class Net(nn.Module):\n",
        "    def __init__(self):\n",
        "        super(Net, self).__init__()\n",
        "        #definimos los parametros basicos de la convolucion\n",
        "        self.conv1 = nn.Conv2d(3, 6, 5)\n",
        "        #se agrega una layer de max pooling para reducir dimensionalidad\n",
        "        self.pool = nn.MaxPool2d(2, 2)\n",
        "        #layer de convolucion\n",
        "        self.conv2 = nn.Conv2d(6, 16, 5)\n",
        "        #c\n",
        "        self.fc1 = nn.Linear(16 * 5 * 5, 120)\n",
        "        self.fc2 = nn.Linear(120, 84)\n",
        "        self.fc3 = nn.Linear(84, 10)\n",
        "\n",
        "    def forward(self, x):\n",
        "      #basado en la documentacion de pytorch\n",
        "        x = self.pool(F.relu(self.conv1(x)))\n",
        "        x = self.pool(F.relu(self.conv2(x)))\n",
        "        x = x.view(-1, 16 * 5 * 5)\n",
        "        x = F.relu(self.fc1(x))\n",
        "        x = F.relu(self.fc2(x))\n",
        "        x = self.fc3(x)\n",
        "        return x\n",
        "\n",
        "model = Net()"
      ],
      "metadata": {
        "id": "wQk0IWxsQD-h"
      },
      "execution_count": 5,
      "outputs": []
    },
    {
      "cell_type": "code",
      "source": [
        "# usamos adam y cross entropy\n",
        "optimizer = optim.Adam(model.parameters(), lr=1e-3)\n",
        "criterion = nn.CrossEntropyLoss()\n",
        "\n",
        "# loop\n",
        "def train_model(model, data_loader, criterion, optimizer, device):\n",
        "    model = model.train()\n",
        "    total_loss = 0\n",
        "    for batch in data_loader:\n",
        "        inputs, labels = batch\n",
        "        inputs, labels = inputs.to(device), labels.to(device)\n",
        "\n",
        "        optimizer.zero_grad()\n",
        "        outputs = model(inputs)\n",
        "        loss = criterion(outputs, labels)\n",
        "        loss.backward()\n",
        "        optimizer.step()\n",
        "\n",
        "        total_loss += loss.item()\n",
        "\n",
        "    return total_loss / len(data_loader)\n",
        "\n",
        "# loop Evaluacion\n",
        "def eval_model(model, data_loader, criterion, device):\n",
        "    model = model.eval()\n",
        "    total_loss = 0\n",
        "    correct_predictions = 0\n",
        "\n",
        "    with torch.no_grad():\n",
        "        for batch in data_loader:\n",
        "            inputs, labels = batch\n",
        "            inputs, labels = inputs.to(device), labels.to(device)\n",
        "\n",
        "            outputs = model(inputs)\n",
        "            loss = criterion(outputs, labels)\n",
        "            total_loss += loss.item()\n",
        "\n",
        "            _, preds = torch.max(outputs, dim=1)\n",
        "            correct_predictions += torch.sum(preds == labels)\n",
        "\n",
        "    return total_loss / len(data_loader), correct_predictions.double() / len(data_loader.dataset)\n",
        "\n",
        "# entrenamos y mandamos al dispositivo\n",
        "device = torch.device('cuda' if torch.cuda.is_available() else 'cpu')\n",
        "model = model.to(device)\n",
        "\n",
        "epochs = 10\n",
        "for epoch in range(epochs):\n",
        "    train_loss = train_model(model, trainloader, criterion, optimizer, device)\n",
        "    val_loss, val_acc = eval_model(model, testloader, criterion, device)\n",
        "\n",
        "    print(f'Epoch {epoch + 1}/{epochs}')\n",
        "    print(f'Train loss: {train_loss:.4f}, Val loss: {val_loss:.4f}, Val accuracy: {val_acc:.4f}')"
      ],
      "metadata": {
        "colab": {
          "base_uri": "https://localhost:8080/"
        },
        "id": "5XIbun5RQTpL",
        "outputId": "bcb48e4e-f414-4758-ecf4-23466d95779c"
      },
      "execution_count": 6,
      "outputs": [
        {
          "output_type": "stream",
          "name": "stdout",
          "text": [
            "Epoch 1/10\n",
            "Train loss: 1.6782, Val loss: 1.4411, Val accuracy: 0.4793\n",
            "Epoch 2/10\n",
            "Train loss: 1.3575, Val loss: 1.3021, Val accuracy: 0.5362\n",
            "Epoch 3/10\n",
            "Train loss: 1.2335, Val loss: 1.2139, Val accuracy: 0.5697\n",
            "Epoch 4/10\n",
            "Train loss: 1.1472, Val loss: 1.1509, Val accuracy: 0.5921\n",
            "Epoch 5/10\n",
            "Train loss: 1.0832, Val loss: 1.1056, Val accuracy: 0.6093\n",
            "Epoch 6/10\n",
            "Train loss: 1.0261, Val loss: 1.0802, Val accuracy: 0.6218\n",
            "Epoch 7/10\n",
            "Train loss: 0.9760, Val loss: 1.1066, Val accuracy: 0.6130\n",
            "Epoch 8/10\n",
            "Train loss: 0.9370, Val loss: 1.0673, Val accuracy: 0.6265\n",
            "Epoch 9/10\n",
            "Train loss: 0.8900, Val loss: 1.0454, Val accuracy: 0.6394\n",
            "Epoch 10/10\n",
            "Train loss: 0.8631, Val loss: 1.0305, Val accuracy: 0.6472\n"
          ]
        }
      ]
    },
    {
      "cell_type": "code",
      "source": [
        "\n",
        "# Funcion para ver la imagen\n",
        "def imshow(img):\n",
        "    img = img / 2 + 0.5\n",
        "    npimg = img.numpy()\n",
        "    plt.imshow(np.transpose(npimg, (1, 2, 0)))\n",
        "    plt.show()\n",
        "\n",
        "# Indice de la imagen que quieren ver.\n",
        "index = 20\n",
        "\n",
        "# selecionamos label y imagen\n",
        "image, label = testset[index]\n",
        "\n",
        "\n",
        "\n",
        "imshow(image)\n",
        "#predecimos\n",
        "output = model(image.unsqueeze(0).to(device))\n",
        "_, predicted = torch.max(output, 1)\n",
        "\n",
        "# resultado predicho\n",
        "print(f'True label: {classes[label]}')\n",
        "print(f'Predicted: {classes[predicted[0]]}')"
      ],
      "metadata": {
        "colab": {
          "base_uri": "https://localhost:8080/",
          "height": 482
        },
        "id": "2EZ0o4GpMoMi",
        "outputId": "ba9ec025-923e-4b2c-edec-9014308a1305"
      },
      "execution_count": 11,
      "outputs": [
        {
          "output_type": "stream",
          "name": "stderr",
          "text": [
            "WARNING:matplotlib.image:Clipping input data to the valid range for imshow with RGB data ([0..1] for floats or [0..255] for integers).\n"
          ]
        },
        {
          "output_type": "display_data",
          "data": {
            "text/plain": [
              "<Figure size 640x480 with 1 Axes>"
            ],
            "image/png": "[encoded data removed]"
          },
          "metadata": {}
        },
        {
          "output_type": "stream",
          "name": "stdout",
          "text": [
            "True label: horse\n",
            "Predicted: horse\n"
          ]
        }
      ]
    },
    {
      "cell_type": "code",
      "source": [
        "# guardar el modelo\n",
        "model_save_path = 'modelcnn.pth'\n",
        "torch.save(model.state_dict(), model_save_path)"
      ],
      "metadata": {
        "id": "DOKyBJxn63yR"
      },
      "execution_count": 12,
      "outputs": []
    }
  ]
}